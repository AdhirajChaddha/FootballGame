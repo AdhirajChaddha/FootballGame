{
  "nbformat": 4,
  "nbformat_minor": 0,
  "metadata": {
    "colab": {
      "name": "CIFAR10 ML Project.ipynb",
      "version": "0.3.2",
      "provenance": [],
      "collapsed_sections": [],
      "include_colab_link": true
    },
    "kernelspec": {
      "name": "python3",
      "display_name": "Python 3"
    },
    "accelerator": "GPU"
  },
  "cells": [
    {
      "cell_type": "markdown",
      "metadata": {
        "id": "view-in-github",
        "colab_type": "text"
      },
      "source": [
        "<a href=\"https://colab.research.google.com/github/AdhirajChaddha/FootballGame/blob/master/CIFAR10_ML_Project.ipynb\" target=\"_parent\"><img src=\"https://colab.research.google.com/assets/colab-badge.svg\" alt=\"Open In Colab\"/></a>"
      ]
    },
    {
      "cell_type": "code",
      "metadata": {
        "id": "u8chO3HzFOAQ",
        "colab_type": "code",
        "colab": {
          "base_uri": "https://localhost:8080/",
          "height": 34
        },
        "outputId": "025e0f42-e242-4bfa-bf6e-0b13c81da34d"
      },
      "source": [
        "import torch\n",
        "import numpy as np\n",
        "\n",
        "train_on_gpu = torch.cuda.is_available()\n",
        "\n",
        "print(\"Training on GPU: \", train_on_gpu)"
      ],
      "execution_count": 1,
      "outputs": [
        {
          "output_type": "stream",
          "text": [
            "Training on GPU:  True\n"
          ],
          "name": "stdout"
        }
      ]
    },
    {
      "cell_type": "code",
      "metadata": {
        "id": "WpH4yPHQFdFY",
        "colab_type": "code",
        "colab": {
          "base_uri": "https://localhost:8080/",
          "height": 51
        },
        "outputId": "acdc7166-0c9d-46bd-f18c-b2107eb7bf7d"
      },
      "source": [
        "from torchvision import datasets\n",
        "import torchvision.transforms as transforms\n",
        "from torch.utils.data.sampler import SubsetRandomSampler\n",
        "\n",
        "batchSize = 20\n",
        "validationSize = 0.2\n",
        "\n",
        "transformsTrain = transforms.Compose([\n",
        "#     transforms.Pad(1),\n",
        "#     transforms.RandomGrayscale(),\n",
        "#     transforms.RandomHorizontalFlip(),\n",
        "#     transforms.RandomRotation(10),\n",
        "    \n",
        "    transforms.ToTensor(),\n",
        "    transforms.Normalize((0.5, 0.5, 0.5), (0.5, 0.5, 0.5))\n",
        "])\n",
        "\n",
        "transformsTest = transforms.Compose([\n",
        "    transforms.ToTensor(),\n",
        "    transforms.Normalize((0.5, 0.5, 0.5), (0.5, 0.5, 0.5))\n",
        "])\n",
        "\n",
        "\n",
        "# Download training and testing data\n",
        "trainingData = datasets.CIFAR10('data', train=True, \n",
        "                                transform=transformsTrain, download=True)\n",
        "\n",
        "testingData = datasets.CIFAR10('data', train=False, \n",
        "                                transform=transformsTest, download=True)"
      ],
      "execution_count": 34,
      "outputs": [
        {
          "output_type": "stream",
          "text": [
            "Files already downloaded and verified\n",
            "Files already downloaded and verified\n"
          ],
          "name": "stdout"
        }
      ]
    },
    {
      "cell_type": "code",
      "metadata": {
        "id": "uIjJLrpgGDUN",
        "colab_type": "code",
        "colab": {}
      },
      "source": [
        "# Devide the data int0 training and validation sets\n",
        "length = len(trainingData)\n",
        "indices = list(range(length))\n",
        "np.random.shuffle(indices)\n",
        "split = (int)(length*validationSize)\n",
        "train_idx, val_idx = idices[:split], indices[split:]\n",
        "\n",
        "# Put the inices into the samplers for making dataloader\n",
        "trainSampler = SubsetRandomSampler(train_idx)\n",
        "validationSampler = SubsetRandomSampler(val_idx)\n",
        "\n",
        "# Create the data loaders\n",
        "trainLoader = torch.utils.data.DataLoader(trainingData, batch_size=batchSize,\n",
        "    sampler=trainSampler)\n",
        "valLoader = torch.utils.data.DataLoader(trainingData, batch_size=batchSize,\n",
        "    sampler=validationSampler)\n",
        "testLoader = torch.utils.data.DataLoader(testingData, batch_size=batchSize)\n",
        "\n",
        "# specify the image classes\n",
        "classes = ['airplane', 'automobile', 'bird', 'cat', 'deer',\n",
        "           'dog', 'frog', 'horse', 'ship', 'truck']"
      ],
      "execution_count": 0,
      "outputs": []
    },
    {
      "cell_type": "code",
      "metadata": {
        "id": "gHXkt5I4UUsN",
        "colab_type": "code",
        "colab": {}
      },
      "source": [
        "import matplotlib.pyplot as plt\n",
        "%matplotlib inline\n",
        "\n",
        "# helper function to un-normalize and display an image\n",
        "def imshow(img):\n",
        "    img = img / 2 + 0.5  # unnormalize\n",
        "    plt.imshow(np.transpose(img, (1, 2, 0)))  # convert from Tensor image"
      ],
      "execution_count": 0,
      "outputs": []
    },
    {
      "cell_type": "code",
      "metadata": {
        "id": "CWfDveBSVWe6",
        "colab_type": "code",
        "colab": {
          "base_uri": "https://localhost:8080/",
          "height": 286
        },
        "outputId": "a5e4dd46-9520-41dd-f0d9-ad048840a799"
      },
      "source": [
        "dataiter = iter(trainLoader)\n",
        "images, labels = dataiter.next()\n",
        "\n",
        "print(images.shape)\n",
        "\n",
        "imshow(images.cpu()[0])"
      ],
      "execution_count": 37,
      "outputs": [
        {
          "output_type": "stream",
          "text": [
            "torch.Size([20, 3, 32, 32])\n"
          ],
          "name": "stdout"
        },
        {
          "output_type": "display_data",
          "data": {
            "image/png": "[encoded data removed]",
            "text/plain": [
              "<Figure size 432x288 with 1 Axes>"
            ]
          },
          "metadata": {
            "tags": []
          }
        }
      ]
    },
    {
      "cell_type": "code",
      "metadata": {
        "id": "FLxOF6D6Vxlj",
        "colab_type": "code",
        "colab": {}
      },
      "source": [
        "import torch.nn as nn\n",
        "import torch.nn.functional as F\n",
        "\n",
        "class CNN(nn.Module):\n",
        "  def __init__(self):\n",
        "    super(CNN, self).__init__()\n",
        "    \n",
        "    self.conv1 = nn.Conv2d(3, 16, 3, padding=1)\n",
        "    self.conv2 = nn.Conv2d(16, 32, 3, padding=1)\n",
        "    self.conv3 = nn.Conv2d(32, 64, 3, padding=1)\n",
        "    \n",
        "    self.maxPool = nn.MaxPool2d(2, 2)\n",
        "    \n",
        "    self.fc1 = nn.Linear(4*4*64, 500)\n",
        "    self.fc2 = nn.Linear(500, 10)\n",
        "    \n",
        "    self.dropout = nn.Dropout(0.2)\n",
        "    \n",
        "  def forward(self, x):\n",
        "    x = F.relu(self.conv1(x))\n",
        "    x = self.maxPool(x)\n",
        "    \n",
        "    x = F.relu(self.conv2(x))\n",
        "    x = self.maxPool(x)\n",
        "    \n",
        "    x = F.relu(self.conv3(x))\n",
        "    x = self.maxPool(x)\n",
        "    \n",
        "    x = x.view(-1, 4*4*64)\n",
        "    \n",
        "    x = self.dropout(x)\n",
        "    x = F.relu(self.fc1(x))\n",
        "    x = self.dropout(x)\n",
        "    x = self.fc2(x)\n",
        "    \n",
        "    return x"
      ],
      "execution_count": 0,
      "outputs": []
    },
    {
      "cell_type": "code",
      "metadata": {
        "id": "nNkat3c7YPSb",
        "colab_type": "code",
        "colab": {}
      },
      "source": [
        "model = CNN()\n",
        "\n",
        "if train_on_gpu:\n",
        "  model.cuda()\n",
        "  \n",
        "import torch.optim as optim\n",
        "\n",
        "optimizer = optim.SGD(model.parameters(), lr=0.01)\n",
        "LossFunction = nn.CrossEntropyLoss()"
      ],
      "execution_count": 0,
      "outputs": []
    },
    {
      "cell_type": "code",
      "metadata": {
        "id": "Mnaz4s_8YRI5",
        "colab_type": "code",
        "colab": {
          "base_uri": "https://localhost:8080/",
          "height": 918
        },
        "outputId": "8bca0a01-0487-4ea0-fe86-fdfcc0f9e0a8"
      },
      "source": [
        "epochs = 30\n",
        "\n",
        "# Set the minimum validation loss achieved to infinity innitailly \n",
        "minimumValidationLoss = np.Inf\n",
        "  \n",
        "for e in range(epochs):\n",
        "  trainLoss = 0.0\n",
        "  validationLoss = 0.0\n",
        "  \n",
        "  ################# \n",
        "  # Training Loop #\n",
        "  #################\n",
        "  model.train()\n",
        "  for images, labels in trainLoader:\n",
        "    if train_on_gpu:\n",
        "      images = images.cuda()\n",
        "      labels = labels.cuda()\n",
        "    \n",
        "    # Set gradients to zero from last step\n",
        "    optimizer.zero_grad()\n",
        "    \n",
        "    # Get output, calculate loss, backpropogate and then update the weights\n",
        "    output = model(images) # output\n",
        "    loss = LossFunction(output, labels) # loss calcluation \n",
        "    loss.backward() # backpropogation\n",
        "    optimizer.step() # updating weights\n",
        "    \n",
        "    # Get the total loss over the batch by multiplying loss with batch size\n",
        "    trainLoss += loss.item()*images.size(0) \n",
        "    \n",
        "  ###################\n",
        "  # Validation Loop #\n",
        "  ###################\n",
        "  model.eval()\n",
        "  for images, labels in valLoader:\n",
        "    if train_on_gpu:\n",
        "      images = images.cuda()\n",
        "      labels = labels.cuda()\n",
        "    \n",
        "    # Get output, calculate loss, backpropogate and then update the weights\n",
        "    output = model(images) # output\n",
        "    loss = LossFunction(output, labels) # loss calcluation \n",
        "    \n",
        "    # Get the total loss over the batch by multiplying loss with batch size\n",
        "    validationLoss += loss.item()*images.size(0) \n",
        "    \n",
        "    \n",
        "  # Getting the average losses in trainin gand validation loop\n",
        "  avgTrainLoss = trainLoss/len(trainLoader.dataset)  \n",
        "  avgValLoss = validationLoss/len(valLoader.dataset)\n",
        "  \n",
        "  print(\"Epoch: \", e+1, '\\tTraining Loss: ', \n",
        "        avgTrainLoss, '\\tValidation Loss: ', avgValLoss)\n",
        "  \n",
        "  # Saving the model and setting new minValidationLoss if current model has \n",
        "  # lower loss that the previous one saved\n",
        "  if avgValLoss <= minimumValidationLoss:\n",
        "    print(\"Saving model \\t Validation loss gone from: \", minimumValidationLoss,\n",
        "         \" to: \", avgValLoss)\n",
        "    torch.save(model.state_dict(), 'model_cifar.pt')\n",
        "    minimumValidationLoss = avgValLoss"
      ],
      "execution_count": 40,
      "outputs": [
        {
          "output_type": "stream",
          "text": [
            "Epoch:  1 \tTraining Loss:  0.4575807207107544 \tValidation Loss:  1.802000500202179\n",
            "Saving model \t Validation loss gone from:  inf  to:  1.802000500202179\n",
            "Epoch:  2 \tTraining Loss:  0.43020141739845275 \tValidation Loss:  1.6362512901306152\n",
            "Saving model \t Validation loss gone from:  1.802000500202179  to:  1.6362512901306152\n",
            "Epoch:  3 \tTraining Loss:  0.39675560336112975 \tValidation Loss:  1.526107603931427\n",
            "Saving model \t Validation loss gone from:  1.6362512901306152  to:  1.526107603931427\n",
            "Epoch:  4 \tTraining Loss:  0.3701688827037811 \tValidation Loss:  1.443469809627533\n",
            "Saving model \t Validation loss gone from:  1.526107603931427  to:  1.443469809627533\n",
            "Epoch:  5 \tTraining Loss:  0.34376062479019165 \tValidation Loss:  1.3265503953456879\n",
            "Saving model \t Validation loss gone from:  1.443469809627533  to:  1.3265503953456879\n",
            "Epoch:  6 \tTraining Loss:  0.32425142102241516 \tValidation Loss:  1.2664010108232497\n",
            "Saving model \t Validation loss gone from:  1.3265503953456879  to:  1.2664010108232497\n",
            "Epoch:  7 \tTraining Loss:  0.3104808688402176 \tValidation Loss:  1.2119762412071229\n",
            "Saving model \t Validation loss gone from:  1.2664010108232497  to:  1.2119762412071229\n",
            "Epoch:  8 \tTraining Loss:  0.3008548321723938 \tValidation Loss:  1.1631957408189773\n",
            "Saving model \t Validation loss gone from:  1.2119762412071229  to:  1.1631957408189773\n",
            "Epoch:  9 \tTraining Loss:  0.2891532680749893 \tValidation Loss:  1.156374349784851\n",
            "Saving model \t Validation loss gone from:  1.1631957408189773  to:  1.156374349784851\n",
            "Epoch:  10 \tTraining Loss:  0.2806488294839859 \tValidation Loss:  1.0999313391923904\n",
            "Saving model \t Validation loss gone from:  1.156374349784851  to:  1.0999313391923904\n",
            "Epoch:  11 \tTraining Loss:  0.2702796636343002 \tValidation Loss:  1.1169540730714798\n",
            "Epoch:  12 \tTraining Loss:  0.26217739799022677 \tValidation Loss:  1.0648990714550017\n",
            "Saving model \t Validation loss gone from:  1.0999313391923904  to:  1.0648990714550017\n",
            "Epoch:  13 \tTraining Loss:  0.2546516068458557 \tValidation Loss:  1.0285280458211898\n",
            "Saving model \t Validation loss gone from:  1.0648990714550017  to:  1.0285280458211898\n",
            "Epoch:  14 \tTraining Loss:  0.2478680295944214 \tValidation Loss:  0.9874533453702926\n",
            "Saving model \t Validation loss gone from:  1.0285280458211898  to:  0.9874533453702926\n",
            "Epoch:  15 \tTraining Loss:  0.24033786759376527 \tValidation Loss:  0.9766109453678131\n",
            "Saving model \t Validation loss gone from:  0.9874533453702926  to:  0.9766109453678131\n",
            "Epoch:  16 \tTraining Loss:  0.2324142326116562 \tValidation Loss:  0.9462075533986092\n",
            "Saving model \t Validation loss gone from:  0.9766109453678131  to:  0.9462075533986092\n",
            "Epoch:  17 \tTraining Loss:  0.2249465665102005 \tValidation Loss:  0.9671057263612747\n",
            "Epoch:  18 \tTraining Loss:  0.2200911601781845 \tValidation Loss:  0.917515571475029\n",
            "Saving model \t Validation loss gone from:  0.9462075533986092  to:  0.917515571475029\n",
            "Epoch:  19 \tTraining Loss:  0.211694347512722 \tValidation Loss:  0.8872129442691803\n",
            "Saving model \t Validation loss gone from:  0.917515571475029  to:  0.8872129442691803\n",
            "Epoch:  20 \tTraining Loss:  0.20424973472356797 \tValidation Loss:  0.8964299245357513\n",
            "Epoch:  21 \tTraining Loss:  0.19907908036708832 \tValidation Loss:  0.8703223660230637\n",
            "Saving model \t Validation loss gone from:  0.8872129442691803  to:  0.8703223660230637\n",
            "Epoch:  22 \tTraining Loss:  0.19196101001501084 \tValidation Loss:  0.8786960491299629\n",
            "Epoch:  23 \tTraining Loss:  0.18426399692296982 \tValidation Loss:  0.8375091231465339\n",
            "Saving model \t Validation loss gone from:  0.8703223660230637  to:  0.8375091231465339\n",
            "Epoch:  24 \tTraining Loss:  0.1783649874329567 \tValidation Loss:  0.8370985775709152\n",
            "Saving model \t Validation loss gone from:  0.8375091231465339  to:  0.8370985775709152\n",
            "Epoch:  25 \tTraining Loss:  0.17207565764188767 \tValidation Loss:  0.8287658034563065\n",
            "Saving model \t Validation loss gone from:  0.8370985775709152  to:  0.8287658034563065\n",
            "Epoch:  26 \tTraining Loss:  0.1647487451672554 \tValidation Loss:  0.8075905793428421\n",
            "Saving model \t Validation loss gone from:  0.8287658034563065  to:  0.8075905793428421\n",
            "Epoch:  27 \tTraining Loss:  0.15824413474798202 \tValidation Loss:  0.8013477494359016\n",
            "Saving model \t Validation loss gone from:  0.8075905793428421  to:  0.8013477494359016\n",
            "Epoch:  28 \tTraining Loss:  0.15217821539640428 \tValidation Loss:  0.8052987455964088\n",
            "Epoch:  29 \tTraining Loss:  0.14627602318525315 \tValidation Loss:  0.8081011584401131\n",
            "Epoch:  30 \tTraining Loss:  0.13800681202411652 \tValidation Loss:  0.8094398331046104\n"
          ],
          "name": "stdout"
        }
      ]
    },
    {
      "cell_type": "code",
      "metadata": {
        "id": "dgheqFxKeE5t",
        "colab_type": "code",
        "colab": {
          "base_uri": "https://localhost:8080/",
          "height": 34
        },
        "outputId": "22917828-a59e-4e03-e336-6cd69555c4a1"
      },
      "source": [
        "model.load_state_dict(torch.load('model_cifar.pt'))"
      ],
      "execution_count": 41,
      "outputs": [
        {
          "output_type": "execute_result",
          "data": {
            "text/plain": [
              "IncompatibleKeys(missing_keys=[], unexpected_keys=[])"
            ]
          },
          "metadata": {
            "tags": []
          },
          "execution_count": 41
        }
      ]
    },
    {
      "cell_type": "code",
      "metadata": {
        "id": "A0qIeGxqg5sv",
        "colab_type": "code",
        "colab": {
          "base_uri": "https://localhost:8080/",
          "height": 238
        },
        "outputId": "2148fc31-85e0-423b-9fd7-0bedf4bc78da"
      },
      "source": [
        "testLoss = 0.0\n",
        "\n",
        "class_correct = list(0. for i in range(10))\n",
        "class_total = list(0. for i in range(10))\n",
        "\n",
        "for images, labels in testLoader:\n",
        "  if train_on_gpu:\n",
        "        images, labels = images.cuda(), labels.cuda()\n",
        "      \n",
        "  out = model(images)\n",
        "  loss = LossFunction(out, labels)\n",
        "  \n",
        "  testLoss += loss.item()*images.size(0)\n",
        "  \n",
        "  _, pred = torch.max(out, 1)    \n",
        "  # compare predictions to true label\n",
        "  correct_tensor = pred.eq(labels.data.view_as(pred))\n",
        "  correct = np.squeeze(correct_tensor.numpy()) if not train_on_gpu else np.squeeze(correct_tensor.cpu().numpy())\n",
        "  # calculate test accuracy for each object class\n",
        "  for i in range(batchSize):\n",
        "    label = labels.data[i]\n",
        "    class_correct[label] += correct[i].item()\n",
        "    class_total[label] += 1\n",
        "  \n",
        "  \n",
        "testLoss = testLoss/len(testLoader.dataset)\n",
        "\n",
        "for i in range(10):\n",
        "    if class_total[i] > 0:\n",
        "        print('Test Accuracy of %5s: %2d%% (%2d/%2d)' % (\n",
        "            classes[i], 100 * class_correct[i] / class_total[i],\n",
        "            np.sum(class_correct[i]), np.sum(class_total[i])))\n",
        "    else:\n",
        "        print('Test Accuracy of %5s: N/A (no training examples)' % (classes[i]))\n",
        "\n",
        "print('\\nTest Accuracy (Overall): %2d%% (%2d/%2d)' % (\n",
        "    100. * np.sum(class_correct) / np.sum(class_total),\n",
        "    np.sum(class_correct), np.sum(class_total)))\n",
        "\n",
        "print(\"Avg Loss is: \", testLoss)"
      ],
      "execution_count": 42,
      "outputs": [
        {
          "output_type": "stream",
          "text": [
            "Test Accuracy of airplane: 69% (696/1000)\n",
            "Test Accuracy of automobile: 64% (640/1000)\n",
            "Test Accuracy of  bird: 48% (481/1000)\n",
            "Test Accuracy of   cat: 41% (412/1000)\n",
            "Test Accuracy of  deer: 51% (516/1000)\n",
            "Test Accuracy of   dog: 46% (465/1000)\n",
            "Test Accuracy of  frog: 80% (804/1000)\n",
            "Test Accuracy of horse: 67% (672/1000)\n",
            "Test Accuracy of  ship: 74% (740/1000)\n",
            "Test Accuracy of truck: 77% (772/1000)\n",
            "\n",
            "Test Accuracy (Overall): 61% (6198/10000)\n",
            "Avg Loss is:  1.0817258647084236\n"
          ],
          "name": "stdout"
        }
      ]
    },
    {
      "cell_type": "code",
      "metadata": {
        "id": "i715l2OQhd2z",
        "colab_type": "code",
        "colab": {}
      },
      "source": [
        ""
      ],
      "execution_count": 0,
      "outputs": []
    }
  ]
}